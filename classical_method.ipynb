{
 "cells": [
  {
   "cell_type": "markdown",
   "metadata": {},
   "source": [
    "# Instalação de Dependências\n",
    "\n",
    "O framework utilizado para trabalhar com as imagens foi o scikit-image.\n",
    "\n",
    "Além disso, para facilitar a visualização e teste dos resultados a biblioteca ipywidgets também foi usada."
   ]
  },
  {
   "cell_type": "code",
   "execution_count": 1,
   "metadata": {},
   "outputs": [
    {
     "name": "stdout",
     "output_type": "stream",
     "text": [
      "Defaulting to user installation because normal site-packages is not writeable\n",
      "Requirement already satisfied: scikit-image in /home/andre/.local/lib/python3.11/site-packages (0.22.0)\n",
      "Requirement already satisfied: numpy>=1.22 in /home/andre/.local/lib/python3.11/site-packages (from scikit-image) (1.24.4)\n",
      "Requirement already satisfied: scipy>=1.8 in /usr/lib64/python3.11/site-packages (from scikit-image) (1.8.1)\n",
      "Requirement already satisfied: networkx>=2.8 in /home/andre/.local/lib/python3.11/site-packages (from scikit-image) (3.2.1)\n",
      "Requirement already satisfied: pillow>=9.0.1 in /usr/lib64/python3.11/site-packages (from scikit-image) (9.2.0)\n",
      "Requirement already satisfied: imageio>=2.27 in /home/andre/.local/lib/python3.11/site-packages (from scikit-image) (2.31.6)\n",
      "Requirement already satisfied: tifffile>=2022.8.12 in /home/andre/.local/lib/python3.11/site-packages (from scikit-image) (2023.9.26)\n",
      "Requirement already satisfied: packaging>=21 in /home/andre/.local/lib/python3.11/site-packages (from scikit-image) (23.0)\n",
      "Requirement already satisfied: lazy_loader>=0.3 in /home/andre/.local/lib/python3.11/site-packages (from scikit-image) (0.3)\n",
      "Note: you may need to restart the kernel to use updated packages.\n",
      "Defaulting to user installation because normal site-packages is not writeable\n",
      "Requirement already satisfied: ipywidgets in /home/andre/.local/lib/python3.11/site-packages (8.0.6)\n",
      "Requirement already satisfied: ipykernel>=4.5.1 in /home/andre/.local/lib/python3.11/site-packages (from ipywidgets) (6.21.2)\n",
      "Requirement already satisfied: ipython>=6.1.0 in /home/andre/.local/lib/python3.11/site-packages (from ipywidgets) (8.10.0)\n",
      "Requirement already satisfied: traitlets>=4.3.1 in /home/andre/.local/lib/python3.11/site-packages (from ipywidgets) (5.9.0)\n",
      "Requirement already satisfied: widgetsnbextension~=4.0.7 in /home/andre/.local/lib/python3.11/site-packages (from ipywidgets) (4.0.7)\n",
      "Requirement already satisfied: jupyterlab-widgets~=3.0.7 in /home/andre/.local/lib/python3.11/site-packages (from ipywidgets) (3.0.7)\n",
      "Requirement already satisfied: comm>=0.1.1 in /home/andre/.local/lib/python3.11/site-packages (from ipykernel>=4.5.1->ipywidgets) (0.1.2)\n",
      "Requirement already satisfied: debugpy>=1.6.5 in /home/andre/.local/lib/python3.11/site-packages (from ipykernel>=4.5.1->ipywidgets) (1.6.6)\n",
      "Requirement already satisfied: jupyter-client>=6.1.12 in /home/andre/.local/lib/python3.11/site-packages (from ipykernel>=4.5.1->ipywidgets) (8.0.3)\n",
      "Requirement already satisfied: jupyter-core!=5.0.*,>=4.12 in /home/andre/.local/lib/python3.11/site-packages (from ipykernel>=4.5.1->ipywidgets) (5.2.0)\n",
      "Requirement already satisfied: matplotlib-inline>=0.1 in /home/andre/.local/lib/python3.11/site-packages (from ipykernel>=4.5.1->ipywidgets) (0.1.6)\n",
      "Requirement already satisfied: nest-asyncio in /home/andre/.local/lib/python3.11/site-packages (from ipykernel>=4.5.1->ipywidgets) (1.5.6)\n",
      "Requirement already satisfied: packaging in /home/andre/.local/lib/python3.11/site-packages (from ipykernel>=4.5.1->ipywidgets) (23.0)\n",
      "Requirement already satisfied: psutil in /home/andre/.local/lib/python3.11/site-packages (from ipykernel>=4.5.1->ipywidgets) (5.9.4)\n",
      "Requirement already satisfied: pyzmq>=20 in /home/andre/.local/lib/python3.11/site-packages (from ipykernel>=4.5.1->ipywidgets) (25.0.0)\n",
      "Requirement already satisfied: tornado>=6.1 in /home/andre/.local/lib/python3.11/site-packages (from ipykernel>=4.5.1->ipywidgets) (6.2)\n",
      "Requirement already satisfied: backcall in /home/andre/.local/lib/python3.11/site-packages (from ipython>=6.1.0->ipywidgets) (0.2.0)\n",
      "Requirement already satisfied: decorator in /usr/lib/python3.11/site-packages (from ipython>=6.1.0->ipywidgets) (5.1.1)\n",
      "Requirement already satisfied: jedi>=0.16 in /home/andre/.local/lib/python3.11/site-packages (from ipython>=6.1.0->ipywidgets) (0.18.2)\n",
      "Requirement already satisfied: pickleshare in /home/andre/.local/lib/python3.11/site-packages (from ipython>=6.1.0->ipywidgets) (0.7.5)\n",
      "Requirement already satisfied: prompt-toolkit<3.1.0,>=3.0.30 in /home/andre/.local/lib/python3.11/site-packages (from ipython>=6.1.0->ipywidgets) (3.0.36)\n",
      "Requirement already satisfied: pygments>=2.4.0 in /usr/lib/python3.11/site-packages (from ipython>=6.1.0->ipywidgets) (2.12.0)\n",
      "Requirement already satisfied: stack-data in /home/andre/.local/lib/python3.11/site-packages (from ipython>=6.1.0->ipywidgets) (0.6.2)\n",
      "Requirement already satisfied: pexpect>4.3 in /usr/lib/python3.11/site-packages (from ipython>=6.1.0->ipywidgets) (4.8.0)\n",
      "Requirement already satisfied: parso<0.9.0,>=0.8.0 in /home/andre/.local/lib/python3.11/site-packages (from jedi>=0.16->ipython>=6.1.0->ipywidgets) (0.8.3)\n",
      "Requirement already satisfied: python-dateutil>=2.8.2 in /usr/lib/python3.11/site-packages (from jupyter-client>=6.1.12->ipykernel>=4.5.1->ipywidgets) (2.8.2)\n",
      "Requirement already satisfied: platformdirs>=2.5 in /home/andre/.local/lib/python3.11/site-packages (from jupyter-core!=5.0.*,>=4.12->ipykernel>=4.5.1->ipywidgets) (2.6.2)\n",
      "Requirement already satisfied: ptyprocess>=0.5 in /usr/lib/python3.11/site-packages (from pexpect>4.3->ipython>=6.1.0->ipywidgets) (0.6.0)\n",
      "Requirement already satisfied: wcwidth in /home/andre/.local/lib/python3.11/site-packages (from prompt-toolkit<3.1.0,>=3.0.30->ipython>=6.1.0->ipywidgets) (0.2.6)\n",
      "Requirement already satisfied: executing>=1.2.0 in /home/andre/.local/lib/python3.11/site-packages (from stack-data->ipython>=6.1.0->ipywidgets) (1.2.0)\n",
      "Requirement already satisfied: asttokens>=2.1.0 in /home/andre/.local/lib/python3.11/site-packages (from stack-data->ipython>=6.1.0->ipywidgets) (2.2.1)\n",
      "Requirement already satisfied: pure-eval in /home/andre/.local/lib/python3.11/site-packages (from stack-data->ipython>=6.1.0->ipywidgets) (0.2.2)\n",
      "Requirement already satisfied: six in /usr/lib/python3.11/site-packages (from asttokens>=2.1.0->stack-data->ipython>=6.1.0->ipywidgets) (1.16.0)\n",
      "Note: you may need to restart the kernel to use updated packages.\n"
     ]
    }
   ],
   "source": [
    "%pip install scikit-image\n",
    "%pip install ipywidgets"
   ]
  },
  {
   "cell_type": "code",
   "execution_count": 2,
   "metadata": {},
   "outputs": [],
   "source": [
    "import skimage\n",
    "import numpy as np\n",
    "import matplotlib.pyplot as plt\n",
    "from scipy import ndimage\n",
    "from ipywidgets import interact, interact_manual"
   ]
  },
  {
   "cell_type": "markdown",
   "metadata": {},
   "source": [
    "# Ajuste de imagem\n",
    "\n",
    "Para que o algoritmo funcione melhor é útil cortar a imagem apenas na região onde o cubo aparece.\n",
    "Ajustar o contraste também pode ser útil para ressaltar bordas dependendo do tipo de cubo utilizado ou do ambiente onde a foto foi tirada."
   ]
  },
  {
   "cell_type": "code",
   "execution_count": 4,
   "metadata": {},
   "outputs": [
    {
     "data": {
      "application/vnd.jupyter.widget-view+json": {
       "model_id": "41a95e1faddd49ed9d66b756099b734b",
       "version_major": 2,
       "version_minor": 0
      },
      "text/plain": [
       "interactive(children=(FloatSlider(value=1.0, description='size_factor', max=1.0, min=0.1, step=0.01), FloatSli…"
      ]
     },
     "metadata": {},
     "output_type": "display_data"
    },
    {
     "data": {
      "text/plain": [
       "<function __main__.adjust_image(size_factor=1, dx=0, dy=0, low_percentil=2, high_percentil=98)>"
      ]
     },
     "execution_count": 4,
     "metadata": {},
     "output_type": "execute_result"
    }
   ],
   "source": [
    "from skimage.color import rgb2gray\n",
    "from skimage.transform import resize\n",
    "from skimage.exposure import rescale_intensity\n",
    "\n",
    "\n",
    "loaded_image = skimage.io.imread(\"test_images/cube_8.jpg\")\n",
    "cube = np.zeros_like(loaded_image)\n",
    "grey_cube = rgb2gray(cube)\n",
    "borders = np.zeros_like(loaded_image)\n",
    "labels = np.zeros_like(loaded_image)\n",
    "colors = np.zeros((9, 3, 3))\n",
    "\n",
    "\n",
    "def crop_image(image, size_factor, dx=0, dy=0):\n",
    "    w, h, *_ = loaded_image.shape\n",
    "    size = min(w, h)\n",
    "    bounding_box = (\n",
    "        int((w - size * size_factor) / 2 + dy * size * (1 - size_factor)),\n",
    "        int((w + size * size_factor) / 2 + dy * size * (1 - size_factor)),\n",
    "        int((h - size * size_factor) / 2 - dx * size * (1 - size_factor)),\n",
    "        int((h + size * size_factor) / 2 - dx * size * (1 - size_factor)),\n",
    "    )\n",
    "\n",
    "    cropped = image[\n",
    "        bounding_box[0] : bounding_box[1],\n",
    "        bounding_box[2] : bounding_box[3],\n",
    "    ]\n",
    "    cropped = resize(cropped, (512, 512), anti_aliasing=True)\n",
    "    return cropped\n",
    "\n",
    "def adjust_contrast(image, low, high):\n",
    "    p_range = np.percentile(image, (low, high))\n",
    "    return rescale_intensity(image, in_range=tuple(p_range))\n",
    "\n",
    "def adjust_image(size_factor=1, dx=0, dy=0, low_percentil=2, high_percentil=98):\n",
    "    global cube\n",
    "    global grey_cube\n",
    "\n",
    "    cube = loaded_image.copy()\n",
    "    cube = crop_image(cube, size_factor, dx, dy)\n",
    "    cube = adjust_contrast(cube, low_percentil, high_percentil)\n",
    "    grey_cube = 1 - rgb2gray(cube)\n",
    "\n",
    "    plt.imshow(cube)\n",
    "    plt.show()\n",
    "\n",
    "interact(adjust_image, \n",
    "         size_factor=(0.1, 1, 0.01), \n",
    "         dx = (-1, 1, 0.01),\n",
    "         dy = (-1, 1, 0.01),\n",
    "         low_percentil = (0, 100),\n",
    "         high_percentil = (0, 100),\n",
    ")"
   ]
  },
  {
   "cell_type": "markdown",
   "metadata": {},
   "source": [
    "# Extração de bordas\n",
    "\n",
    "O primeiro passo do método é extrair as bordas da imagem utilizando o algoritmo Canny.\n",
    "Neste passo é possível contornar algumas falhas na extração de borda através do algoritmo de fechamento."
   ]
  },
  {
   "cell_type": "code",
   "execution_count": 5,
   "metadata": {},
   "outputs": [
    {
     "data": {
      "application/vnd.jupyter.widget-view+json": {
       "model_id": "b61dadcff4174295bde3c6a9238b88e5",
       "version_major": 2,
       "version_minor": 0
      },
      "text/plain": [
       "interactive(children=(FloatSlider(value=1.0, description='sigma', max=5.0, step=0.01), IntSlider(value=1, desc…"
      ]
     },
     "metadata": {},
     "output_type": "display_data"
    },
    {
     "data": {
      "text/plain": [
       "<function __main__.show_borders(sigma=1, closing=1)>"
      ]
     },
     "execution_count": 5,
     "metadata": {},
     "output_type": "execute_result"
    }
   ],
   "source": [
    "from skimage.feature import canny\n",
    "from skimage.morphology import binary_dilation, binary_closing, thin\n",
    "from skimage.morphology import disk, star\n",
    "\n",
    "\n",
    "def extract_borders(image, sigma, closing):\n",
    "    borders = canny(image, sigma, low_threshold=0)\n",
    "    closing = binary_closing(borders, star(closing))\n",
    "    skeleton = thin(closing)\n",
    "    dilated = binary_dilation(skeleton, disk(2))\n",
    "    return dilated\n",
    "\n",
    "def show_borders(sigma=1, closing=1):\n",
    "    global grey_cube\n",
    "    global borders\n",
    "\n",
    "    borders = extract_borders(grey_cube, sigma, closing)\n",
    "    plt.imshow(cube)\n",
    "    plt.imshow(borders, alpha=(borders == 1) * 0.9)\n",
    "    plt.show()\n",
    "\n",
    "interact(show_borders, sigma=(0, 5, 0.01), closing=(1, 10))"
   ]
  },
  {
   "cell_type": "markdown",
   "metadata": {},
   "source": [
    "# Extração dos quadrados\n",
    "\n",
    "Para extrair os quadrados utilizamos as bordas detectadas no passo anterior e separamos cada área delimitada por elas.\n",
    "\n",
    "Nem todas as regiões extraidas são de nosso interesse, por isso filtramos as regiões desejadas de acordo com:\n",
    "- A área ocupada pela região;\n",
    "- A solidez da região.\n",
    "\n",
    "Neste momento espera-se que a imagem resultante contenha apenas 27 regiões. 9 Para cada uma das faces visíveis."
   ]
  },
  {
   "cell_type": "code",
   "execution_count": 27,
   "metadata": {},
   "outputs": [
    {
     "data": {
      "application/vnd.jupyter.widget-view+json": {
       "model_id": "3180cd983acf4a44b08031f45134532f",
       "version_major": 2,
       "version_minor": 0
      },
      "text/plain": [
       "interactive(children=(IntSlider(value=20, description='min_area'), IntSlider(value=512, description='max_area'…"
      ]
     },
     "metadata": {},
     "output_type": "display_data"
    },
    {
     "data": {
      "text/plain": [
       "<function __main__.show_labels(min_area=20, max_area=512, min_solidity=0.8)>"
      ]
     },
     "execution_count": 27,
     "metadata": {},
     "output_type": "execute_result"
    }
   ],
   "source": [
    "from skimage import measure\n",
    "from skimage.color import label2rgb\n",
    "\n",
    "\n",
    "def extract_labels(borders, min_area, max_area, min_solidity):\n",
    "    labels, num_labels = ndimage.label(borders == 0)\n",
    "    props = measure.regionprops(labels)\n",
    "\n",
    "    for i in range(1, num_labels+1):\n",
    "        current_label = (labels == i)\n",
    "        area = props[i - 1].area\n",
    "        solidity = props[i - 1].solidity\n",
    "\n",
    "        if solidity < min_solidity:\n",
    "            labels[current_label] = 0\n",
    "\n",
    "        elif not (min_area**2 < area < max_area**2):\n",
    "            labels[current_label] = 0\n",
    "\n",
    "    labels, num_labels = ndimage.label(labels)\n",
    "    return labels, num_labels\n",
    "\n",
    "def show_labels(min_area=20, max_area=512, min_solidity=0.8):\n",
    "    global cube\n",
    "    global borders\n",
    "    global labels\n",
    "    \n",
    "    labels, num_labels = extract_labels(borders, min_area, max_area, min_solidity)\n",
    "\n",
    "    print(f\"Partes encontradas: {num_labels}/27\")\n",
    "\n",
    "    plt.imshow(label2rgb(labels))\n",
    "    plt.show()\n",
    "\n",
    "interact(show_labels, min_area=(0, 100), max_area=(0, 512), min_solidity=(0, 1, 0.01))"
   ]
  },
  {
   "cell_type": "markdown",
   "metadata": {},
   "source": [
    "# Identificação dos quadrados e rotulação\n",
    "\n",
    "Até o momento todas as transformações feitas foram do tipo Imagem -> Imagem.\n",
    "Este passo começa a transformar os resultados obtidos da imagem em um modelo.\n",
    "\n",
    "Esta etapa contém os seguintes passos:\n",
    "- Extração do casco convexo (para contornar problemas da segmentação)\n",
    "- Extração dos principais eixos de cada quadrado\n",
    "- Transformação do centro de cada quadrado para o sistema de coordenadas de sua face\n",
    "- Ordenação das coordenadas locais por face da esquerda para a direita e de cima para baixo\n",
    "- União dos índices de cada face\n",
    "- Criação de um novo conjunto de labels com índices ordenados\n",
    "\n",
    "Este método ainda não funciona bem quando menos faces estão visíveis devido ao arredondamento irresponsável dos ângulos."
   ]
  },
  {
   "cell_type": "code",
   "execution_count": 31,
   "metadata": {},
   "outputs": [
    {
     "data": {
      "image/png": "[encoded data removed]",
      "text/plain": [
       "<Figure size 640x480 with 1 Axes>"
      ]
     },
     "metadata": {},
     "output_type": "display_data"
    },
    {
     "data": {
      "image/png": "[encoded data removed]",
      "text/plain": [
       "<Figure size 640x480 with 1 Axes>"
      ]
     },
     "metadata": {},
     "output_type": "display_data"
    },
    {
     "data": {
      "image/png": "[encoded data removed]",
      "text/plain": [
       "<Figure size 640x480 with 1 Axes>"
      ]
     },
     "metadata": {},
     "output_type": "display_data"
    }
   ],
   "source": [
    "from skimage.morphology import dilation, convex_hull_image\n",
    "from skimage.transform import hough_line, hough_line_peaks\n",
    "from skimage import measure\n",
    "from collections import defaultdict\n",
    "\n",
    "\n",
    "def find_main_angles(image):\n",
    "    partial_borders = dilation(image) ^ image\n",
    "\n",
    "    hspace, angles, distances = hough_line_peaks(\n",
    "        *hough_line(partial_borders),\n",
    "        num_peaks=4,\n",
    "        min_distance=20,\n",
    "    )\n",
    "\n",
    "    # Só estou interessado em alguns poucos ângulos específicos\n",
    "    # por isso estou arredondando e retornando na ordem que é mais\n",
    "    # conveniente pra mim.\n",
    "\n",
    "    rounded_angles = set(np.round(angles))\n",
    "    if (-1 in rounded_angles) and (1 in rounded_angles):\n",
    "        x = np.pi / 4\n",
    "        y = -np.pi / 4\n",
    "\n",
    "    elif (0 in rounded_angles) and (1 in rounded_angles):\n",
    "        x = np.pi / 4\n",
    "        y = 0\n",
    "\n",
    "    elif (0 in rounded_angles) and (-1 in rounded_angles):\n",
    "        x = np.pi * 3 / 4\n",
    "        y = 0\n",
    "    \n",
    "    else:\n",
    "        x = 0\n",
    "        y = 0\n",
    "    \n",
    "    return x, y\n",
    "\n",
    "\n",
    "def find_base_transformation(x_angle, y_angle):\n",
    "    x_hat = np.array([np.cos(x_angle), -np.sin(x_angle)])\n",
    "    x_hat = x_hat / np.linalg.norm(x_hat)\n",
    "\n",
    "    y_hat = np.array([np.cos(y_angle), -np.sin(y_angle)])\n",
    "    y_hat = y_hat / np.linalg.norm(y_hat)\n",
    "\n",
    "    canonical_to_current = np.column_stack([x_hat, y_hat])\n",
    "    current_to_canonical = np.linalg.inv(canonical_to_current)\n",
    "\n",
    "    return current_to_canonical\n",
    "\n",
    "\n",
    "def sort_face(label_vals, positions):\n",
    "    if len(label_vals) != 9:\n",
    "        return []\n",
    "\n",
    "    x_array = np.array([positions[i][0] for i in label_vals])\n",
    "    y_array = np.array([positions[i][1] for i in label_vals])\n",
    "\n",
    "    sorted_x_indexes = np.argsort(x_array)\n",
    "    sorted_by_x = np.array(label_vals)[sorted_x_indexes].reshape(3, 3)\n",
    "\n",
    "    y_array = y_array[sorted_x_indexes].reshape(3, 3)\n",
    "    sorted_y_indexes = np.argsort(y_array, axis=1)\n",
    "    sorted_by_y = np.take_along_axis(sorted_by_x, sorted_y_indexes, axis=1)\n",
    "    sorted_by_y = np.flip(sorted_by_y, axis=1)\n",
    "\n",
    "    return sorted_by_y.flatten()\n",
    "\n",
    "\n",
    "def reorder_labels(labels):\n",
    "    label_indexes = np.unique(labels)\n",
    "    convex_labels = labels.copy()\n",
    "    props = measure.regionprops(labels)\n",
    "\n",
    "    for index in label_indexes:\n",
    "        if index == 0:\n",
    "            continue\n",
    "        current_label = (labels == index)\n",
    "        convex_labels[convex_hull_image(current_label)] = index\n",
    "\n",
    "    grouped_by_faces = defaultdict(list)\n",
    "    local_coordinates_face = dict()\n",
    "    for index in label_indexes:\n",
    "        if index == 0:\n",
    "            continue\n",
    "\n",
    "        current_label = (convex_labels == index)\n",
    "        xa, ya = find_main_angles(current_label)\n",
    "        centroid = props[index - 1].centroid\n",
    "        grouped_by_faces[xa, ya].append(index)\n",
    "\n",
    "        try:\n",
    "            transformation = find_base_transformation(xa, ya)\n",
    "            y, x = transformation @ centroid\n",
    "            local_coordinates_face[index] = (x, y)\n",
    "        except:\n",
    "            continue\n",
    "    \n",
    "    counter = 1\n",
    "    order_translator = dict()\n",
    "    for group in sorted(grouped_by_faces.values(), reverse=True):\n",
    "        for i in sort_face(group, local_coordinates_face):\n",
    "            order_translator[i] = counter\n",
    "            counter += 1\n",
    "\n",
    "    reordered_labels = np.zeros_like(convex_labels)\n",
    "    for index in label_indexes:\n",
    "        if index == 0:\n",
    "            continue\n",
    "        current_label = (convex_labels == index)\n",
    "        reordered_labels[current_label] = order_translator.get(index, 0)\n",
    "\n",
    "    return reordered_labels, len(label_indexes) - 1\n",
    "\n",
    "def round_to_common_colors(array):\n",
    "    red = (1, 0, 0)\n",
    "    green = (0, 1, 0)\n",
    "    blue = (0, 0, 1)\n",
    "    white = (1, 1, 1)\n",
    "    yellow = (1, 1, 0)\n",
    "    orange = (1, 0.4, 0)\n",
    "    common_colors = np.array([red, green, blue, white, yellow, orange])\n",
    "\n",
    "    rounded = []\n",
    "    for color in array:\n",
    "        euclidean_distances = [np.linalg.norm(color - common_color) for common_color in common_colors]\n",
    "        best_index = np.argmin(euclidean_distances)\n",
    "        rounded.append(common_colors[best_index])\n",
    "    return np.array(rounded)\n",
    "\n",
    "    # plt.imshow(common_colors)\n",
    "    # plt.show()\n",
    "\n",
    "    # for line in array:\n",
    "    #     for color in line:\n",
    "    #         print(color)\n",
    "\n",
    "\n",
    "def show_ordered_labels():\n",
    "    global labels\n",
    "    global colors \n",
    "\n",
    "    reordered_labels, num_labels = reorder_labels(labels)\n",
    "\n",
    "    plt.imshow(label2rgb(reordered_labels, cube, kind=\"avg\"))\n",
    "    for index in range(1, num_labels+1):\n",
    "        if index == 0:\n",
    "            continue\n",
    "        current_label = (reordered_labels == index)\n",
    "        centroid = measure.centroid(current_label)\n",
    "        y, x = centroid\n",
    "        plt.text(x, y, index, color=\"darkred\", fontweight=\"bold\")\n",
    "    plt.show()\n",
    "\n",
    "    props = measure.regionprops(reordered_labels, intensity_image=cube)\n",
    "    colors = np.array([prop.mean_intensity for prop in props])\n",
    "    colors = round_to_common_colors(colors)\n",
    "    colors = colors.reshape(9, 3, 3)\n",
    "    plt.imshow(colors)\n",
    "    plt.show()\n",
    "\n",
    "show_ordered_labels()"
   ]
  }
 ],
 "metadata": {
  "kernelspec": {
   "display_name": "Python 3",
   "language": "python",
   "name": "python3"
  },
  "language_info": {
   "codemirror_mode": {
    "name": "ipython",
    "version": 3
   },
   "file_extension": ".py",
   "mimetype": "text/x-python",
   "name": "python",
   "nbconvert_exporter": "python",
   "pygments_lexer": "ipython3",
   "version": "3.11.5"
  },
  "orig_nbformat": 4
 },
 "nbformat": 4,
 "nbformat_minor": 2
}
