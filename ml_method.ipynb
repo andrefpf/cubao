{
 "cells": [
  {
   "cell_type": "code",
   "execution_count": null,
   "metadata": {},
   "outputs": [],
   "source": [
    "import tensorflow as tf\n",
    "\n",
    "\n",
    "conv_model = tf.keras.Sequential([\n",
    "    tf.keras.layers.Conv2D(8, (3,3), activation=\"tanh\", input_shape=(64, 64, 3), kernel_initializer=\"random_uniform\", kernel_regularizer=tf.keras.regularizers.l2(l=0.01)),\n",
    "    tf.keras.layers.MaxPooling2D((2,2)),\n",
    "    tf.keras.layers.Conv2D(5, (5,5), activation=\"tanh\", kernel_regularizer=tf.keras.regularizers.l2(l=0.01)),\n",
    "    tf.keras.layers.MaxPooling2D((2,2)),\n",
    "    tf.keras.layers.Dropout(0.2),\n",
    "    tf.keras.layers.Flatten(),\n",
    "    tf.keras.layers.Dense(20, activation='relu', kernel_initializer=\"random_uniform\"),\n",
    "    tf.keras.layers.Dense(1, activation='relu', kernel_initializer=\"random_uniform\")\n",
    "],\n",
    "name=\"TesteConv\"\n",
    ")\n",
    "\n",
    "tf.keras.utils.set_random_seed(123)\n",
    "\n",
    "mse = tf.keras.losses.MeanSquaredError(reduction=tf.keras.losses.Reduction.NONE)\n",
    "opt = tf.keras.optimizers.SGD(learning_rate=0.1)\n",
    "conv_model.compile(\n",
    "    \"adam\",\n",
    "    loss=\"mean_squared_error\",\n",
    "    metrics=['accuracy']\n",
    ")\n",
    "conv_model.build(conv_x_train.shape, )\n",
    "# conv_model.summary()\n",
    "\n",
    "results = conv_model.fit(\n",
    "    conv_x_train,\n",
    "    conv_y_train,\n",
    "    validation_data=(conv_x_test, y_test),\n",
    "    epochs=50,\n",
    ")\n",
    "\n",
    "conv_predictions = np.round(conv_model.predict(conv_x_test).flatten())\n",
    "conv_correct_predictions = sum(conv_predictions == y_test)\n",
    "conv_accuracy = 100 * conv_correct_predictions / len(conv_predictions)\n",
    "conv_false_positive = sum(conv_predictions > y_test)\n",
    "conv_false_negative = sum(conv_predictions < y_test)\n",
    "\n",
    "plt.plot(results.history['accuracy'], label='accuracy')\n",
    "plt.plot(results.history['val_accuracy'], label='val_accuracy')\n",
    "plt.ylim([0, 1.1])\n",
    "plt.xlabel('Epoch')\n",
    "plt.ylabel('Accuracy')\n",
    "plt.legend(loc='lower right')"
   ]
  }
 ],
 "metadata": {
  "language_info": {
   "name": "python"
  }
 },
 "nbformat": 4,
 "nbformat_minor": 2
}
